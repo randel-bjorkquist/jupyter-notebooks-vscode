{
 "cells": [
  {
   "cell_type": "code",
   "execution_count": 16,
   "id": "1e3eddc3",
   "metadata": {},
   "outputs": [
    {
     "name": "stdout",
     "output_type": "stream",
     "text": [
      "🧩 Available ODBC Drivers:\n",
      "    SQL Server\n",
      "    ODBC Driver 17 for SQL Server\n",
      "    Microsoft Access Driver (*.mdb, *.accdb)\n",
      "    Microsoft Excel Driver (*.xls, *.xlsx, *.xlsm, *.xlsb)\n",
      "    Microsoft Access Text Driver (*.txt, *.csv)\n",
      "    Microsoft Access dBASE Driver (*.dbf, *.ndx, *.mdx)\n",
      "    ODBC Driver 18 for SQL Server\n",
      "\n",
      "🔗 Connecting with:\n",
      "DRIVER={SQL Server};SERVER=localhost\\SQL2022;DATABASE=Chinook;Trusted_Connection=yes;Encrypt=no;\n",
      "\n",
      "✅ Connection successful! Sample query output:\n"
     ]
    },
    {
     "name": "stderr",
     "output_type": "stream",
     "text": [
      "C:\\Users\\randel.bjorkquist\\AppData\\Local\\Temp\\ipykernel_74376\\1208281810.py:31: UserWarning: pandas only supports SQLAlchemy connectable (engine/connection) or database string URI or sqlite3 DBAPI2 connection. Other DBAPI2 objects are not tested. Please consider using SQLAlchemy.\n",
      "  df = pd.read_sql(query, conn)\n"
     ]
    },
    {
     "data": {
      "text/html": [
       "<div>\n",
       "<style scoped>\n",
       "    .dataframe tbody tr th:only-of-type {\n",
       "        vertical-align: middle;\n",
       "    }\n",
       "\n",
       "    .dataframe tbody tr th {\n",
       "        vertical-align: top;\n",
       "    }\n",
       "\n",
       "    .dataframe thead th {\n",
       "        text-align: right;\n",
       "    }\n",
       "</style>\n",
       "<table border=\"1\" class=\"dataframe\">\n",
       "  <thead>\n",
       "    <tr style=\"text-align: right;\">\n",
       "      <th></th>\n",
       "      <th>name</th>\n",
       "      <th>database_id</th>\n",
       "    </tr>\n",
       "  </thead>\n",
       "  <tbody>\n",
       "    <tr>\n",
       "      <th>0</th>\n",
       "      <td>master</td>\n",
       "      <td>1</td>\n",
       "    </tr>\n",
       "    <tr>\n",
       "      <th>1</th>\n",
       "      <td>tempdb</td>\n",
       "      <td>2</td>\n",
       "    </tr>\n",
       "    <tr>\n",
       "      <th>2</th>\n",
       "      <td>model</td>\n",
       "      <td>3</td>\n",
       "    </tr>\n",
       "    <tr>\n",
       "      <th>3</th>\n",
       "      <td>msdb</td>\n",
       "      <td>4</td>\n",
       "    </tr>\n",
       "    <tr>\n",
       "      <th>4</th>\n",
       "      <td>DWDiagnostics</td>\n",
       "      <td>5</td>\n",
       "    </tr>\n",
       "  </tbody>\n",
       "</table>\n",
       "</div>"
      ],
      "text/plain": [
       "            name  database_id\n",
       "0         master            1\n",
       "1         tempdb            2\n",
       "2          model            3\n",
       "3           msdb            4\n",
       "4  DWDiagnostics            5"
      ]
     },
     "metadata": {},
     "output_type": "display_data"
    }
   ],
   "source": [
    "# --- SQL Server Connection Test ---\n",
    "import pyodbc\n",
    "import pandas as pd\n",
    "\n",
    "# STEP 1: Check available ODBC drivers\n",
    "print(\"🧩 Available ODBC Drivers:\")\n",
    "for driver in pyodbc.drivers():\n",
    "  print(\"   \", driver)\n",
    "\n",
    "# STEP 2: Define connection details\n",
    "server = \"localhost\\\\SQL2022\"             # Change if your instance name differs\n",
    "database = \"Chinook\"                      # Change to your database\n",
    "driver = \"SQL Server\"                     # Use one listed above\n",
    "#driver = \"ODBC Driver 18 for SQL Server\"  # Use one listed above\n",
    "trusted_connection = \"yes\"                # or \"no\" if using SQL auth\n",
    "encrypt = \"no\"                            # disable encryption for local\n",
    "\n",
    "conn_str = ( f\"DRIVER={{{driver}}};\"\n",
    "             f\"SERVER={server};\"\n",
    "             f\"DATABASE={database};\"\n",
    "             f\"Trusted_Connection={trusted_connection};\"\n",
    "             f\"Encrypt={encrypt};\" )\n",
    "\n",
    "print(\"\\n🔗 Connecting with:\")\n",
    "print(conn_str)\n",
    "\n",
    "# STEP 3: Test connection and query\n",
    "try:\n",
    "  with pyodbc.connect(conn_str) as conn:\n",
    "    query = \"SELECT TOP 5 name, database_id FROM sys.databases;\"\n",
    "    df = pd.read_sql(query, conn)\n",
    "    print(\"\\n✅ Connection successful! Sample query output:\")\n",
    "    display(df)\n",
    "except Exception as e:\n",
    "  print(\"\\n❌ Connection failed!\")\n",
    "  print(str(e))\n"
   ]
  },
  {
   "cell_type": "code",
   "execution_count": null,
   "id": "65d7ba7b",
   "metadata": {},
   "outputs": [],
   "source": [
    "#import pyodbc\n",
    "#import pandas as pd\n",
    "#\n",
    "#conn_str = ( \"DRIVER={ODBC Driver 18 for SQL Server};\"\n",
    "#             \"SERVER=localhost\\\\SQL2022;\"\n",
    "#             \"DATABASE=Chinook;\"\n",
    "#             \"Trusted_Connection=yes;\"\n",
    "#             \"Encrypt=no;\" )\n",
    "#\n",
    "#conn = pyodbc.connect(conn_str)\n",
    "#\n",
    "#query = \"SELECT TOP 10 * FROM dbo.Employee\"\n",
    "#df = pd.read_sql(query, conn)\n",
    "#df.head()\n",
    "\n",
    "#IMPORTANT WARNING:\n",
    "#C:\\Users\\randel.bjorkquist\\AppData\\Local\\Temp\\ipykernel_74376\\3504717152.py:13: UserWarning: pandas only supports SQLAlchemy connectable (engine/connection) or database string URI or sqlite3 DBAPI2 connection. Other DBAPI2 objects are not tested. Please consider using SQLAlchemy.\n",
    "# df = pd.read_sql(query, conn)"
   ]
  },
  {
   "cell_type": "code",
   "execution_count": null,
   "id": "977e212d",
   "metadata": {},
   "outputs": [],
   "source": [
    "from sqlalchemy import create_engine\n",
    "import pandas as pd\n",
    "\n",
    "engine = create_engine(\"mssql+pyodbc://localhost\\\\SQL2022/Chinook?driver=ODBC+Driver+18+for+SQL+Server&trusted_connection=yes&Encrypt=no\")\n",
    "\n",
    "df = pd.read_sql( \"SELECT TOP 10 * FROM dbo.Employee\"\n",
    "                 ,engine )\n",
    "df.head()\n"
   ]
  },
  {
   "cell_type": "code",
   "execution_count": 7,
   "id": "b66048e5",
   "metadata": {},
   "outputs": [
    {
     "data": {
      "image/png": "[encoded data removed]",
      "text/plain": [
       "<Figure size 640x480 with 1 Axes>"
      ]
     },
     "metadata": {},
     "output_type": "display_data"
    }
   ],
   "source": [
    "import matplotlib.pyplot as plt\n",
    "import seaborn as sns\n",
    "\n",
    "#command = \"SELECT C.Country AS 'Country', COUNT(*) AS 'TotalCustomers' FROM Customer AS C GROUP BY C.Country ORDER BY TotalCustomers DESC;\"\n",
    "command = \"\"\"\n",
    "SELECT C.Country  AS 'Country'\n",
    "      ,COUNT(*)   AS 'Total Customers'\n",
    "FROM dbo.Customer AS C\n",
    "GROUP BY C.Country\n",
    "ORDER BY [Total Customers] DESC;\n",
    "\"\"\"\n",
    "\n",
    "df = pd.read_sql(command, engine)\n",
    "df.head()\n",
    "df.plot.bar( x = 'Country'\n",
    "            ,y = 'Total Customers'\n",
    "            ,color = 'skyblue'\n",
    "            ,legend = False )\n",
    "plt.title('Total Customers by Country')\n",
    "plt.show()"
   ]
  },
  {
   "cell_type": "code",
   "execution_count": null,
   "id": "92724627",
   "metadata": {},
   "outputs": [],
   "source": []
  }
 ],
 "metadata": {
  "kernelspec": {
   "display_name": ".venv",
   "language": "python",
   "name": "python3"
  },
  "language_info": {
   "codemirror_mode": {
    "name": "ipython",
    "version": 3
   },
   "file_extension": ".py",
   "mimetype": "text/x-python",
   "name": "python",
   "nbconvert_exporter": "python",
   "pygments_lexer": "ipython3",
   "version": "3.13.5"
  }
 },
 "nbformat": 4,
 "nbformat_minor": 5
}
