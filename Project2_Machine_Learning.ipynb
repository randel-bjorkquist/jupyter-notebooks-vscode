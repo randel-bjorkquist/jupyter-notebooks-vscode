{
 "cells": [
  {
   "cell_type": "code",
   "execution_count": null,
   "id": "c24209f5",
   "metadata": {},
   "outputs": [],
   "source": [
    "#Projects/Things to know and/or look at ...\n",
    "# Data Cleaning and Preparation:\n",
    "#   In this case the data is relatively clean, but you may still need some preprocessing, such as scaling.\n",
    "# Model Selection: \n",
    "#   Train at least two models on the dataset. Clearly indicate which metrics you used and the performance of each model. Be sure to address any imbalance in the data, as well as using an appropriate train/test data split.\n",
    "# Performance Optimization: \n",
    "#   Use regularization, hyperparameter tuning, or other techniques to further optimize your chosen model and/or help select the best model.\n",
    "\n",
    "# We need training data ... split the data into training and testing sets: X_train, X_test, y_train, y_test\n",
    "#from sklearn.model_selection import train_test_split\n",
    "#X_train, X_test, y_train, y_test = train_test_split(X, y, test_size = 0.2, random_state = 42, stratify=y)\n",
    "#\n",
    "#print(X_train.shape)\n",
    "#print(X_test.shape)\n"
   ]
  },
  {
   "cell_type": "code",
   "execution_count": null,
   "id": "5c2c31ac",
   "metadata": {},
   "outputs": [],
   "source": [
    "import numpy as np\n",
    "import pandas as pd\n",
    "import seaborn as sns\n",
    "import matplotlib.pyplot as plt\n"
   ]
  },
  {
   "cell_type": "code",
   "execution_count": null,
   "id": "496f5247",
   "metadata": {},
   "outputs": [],
   "source": [
    "# import our dataset\n",
    "# NOTE: the variable 'df' represents 'data frame'\n",
    "#full_path = \"C:\\\\Users\\\\randel.bjorkquist\\\\Documents\\\\QuickStart\\\\DataScience\\\\Student_Performance.csv\"\n",
    "#df = pd.read_csv(full_path, parse_dates=['Test_Date'])\n",
    "\n",
    "#df = pd.read_csv( './data/bank-additional-full.csv'\n",
    "#                ,parse_dates = ['application_date']\n",
    "#                ,dtype       = { 'default': 'boolean'\n",
    "#                                ,'housing': 'boolean'\n",
    "#                                ,'loan': 'boolean'\n",
    "#                                ,'y': 'boolean' })\n",
    "\n",
    "df = pd.read_csv( './data/bank-additional-full.csv'\n",
    "                ,dtype = { 'default': 'boolean'\n",
    "                          ,'housing': 'boolean'\n",
    "                          ,'loan': 'boolean'\n",
    "                          ,'y': 'boolean' })\n",
    "\n",
    "df.info()\n",
    "print(df.head(5))"
   ]
  },
  {
   "cell_type": "code",
   "execution_count": null,
   "id": "81e8fcbc",
   "metadata": {},
   "outputs": [],
   "source": []
  }
 ],
 "metadata": {
  "kernelspec": {
   "display_name": ".venv",
   "language": "python",
   "name": "python3"
  },
  "language_info": {
   "codemirror_mode": {
    "name": "ipython",
    "version": 3
   },
   "file_extension": ".py",
   "mimetype": "text/x-python",
   "name": "python",
   "nbconvert_exporter": "python",
   "pygments_lexer": "ipython3",
   "version": "3.13.5"
  }
 },
 "nbformat": 4,
 "nbformat_minor": 5
}
