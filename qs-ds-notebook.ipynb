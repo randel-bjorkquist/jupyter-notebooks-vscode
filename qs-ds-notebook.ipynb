{
 "cells": [
  {
   "cell_type": "code",
   "execution_count": null,
   "id": "132bab60",
   "metadata": {},
   "outputs": [],
   "source": [
    "# Uncomment the following line to install seaborn\n",
    "#%pip install numpy\n",
    "#%pip install pandas\n",
    "#%pip install seaborn"
   ]
  },
  {
   "cell_type": "code",
   "execution_count": null,
   "id": "af0caab6-3968-4d45-be3b-816da5e5c730",
   "metadata": {},
   "outputs": [],
   "source": [
    "import pandas as pd\n",
    "import numpy as np\n",
    "import seaborn as sns"
   ]
  },
  {
   "cell_type": "code",
   "execution_count": null,
   "id": "718896aa-8860-4565-8f64-5ae4770a0ad0",
   "metadata": {},
   "outputs": [],
   "source": [
    "# import our dataset\n",
    "# NOTE: the variable 'df' represents 'data frame'\n",
    "#full_path = \"C:\\\\Users\\\\randel.bjorkquist\\\\Documents\\\\QuickStart\\\\DataScience\\\\Student_Performance.csv\"\n",
    "#df = pd.read_csv(full_path, parse_dates=['Test_Date'])\n",
    "\n",
    "df = pd.read_csv('.\\data\\Student_Performance.csv', parse_dates=['Test_Date'])"
   ]
  },
  {
   "cell_type": "code",
   "execution_count": null,
   "id": "eef6687a-d05f-4b2f-b981-2337758c1451",
   "metadata": {},
   "outputs": [],
   "source": [
    "df.head()"
   ]
  },
  {
   "cell_type": "code",
   "execution_count": null,
   "id": "ba5fe343-21ad-4c2f-b77c-857913eb00c5",
   "metadata": {},
   "outputs": [],
   "source": [
    "df.info()"
   ]
  },
  {
   "cell_type": "code",
   "execution_count": null,
   "id": "8d7ff4da-784f-4e4d-988b-0423b210fdb3",
   "metadata": {},
   "outputs": [],
   "source": [
    "df.describe()"
   ]
  },
  {
   "cell_type": "code",
   "execution_count": null,
   "id": "c961f401-f44c-40e9-98de-7b680fb585b3",
   "metadata": {},
   "outputs": [],
   "source": [
    "df.describe(include='all')"
   ]
  },
  {
   "cell_type": "code",
   "execution_count": null,
   "id": "fb30f319-d2a2-44e4-90c6-e33e5ec9bdf2",
   "metadata": {},
   "outputs": [],
   "source": [
    "# We want to find missing values per column\n",
    "df.isna().sum() #isna = is not available"
   ]
  },
  {
   "cell_type": "code",
   "execution_count": null,
   "id": "0e15a53a-ee3e-4e94-8aef-9b510d8b832f",
   "metadata": {},
   "outputs": [],
   "source": [
    "math_score = df[df.Subject=='Math']"
   ]
  },
  {
   "cell_type": "code",
   "execution_count": null,
   "id": "28cdcfb4-19ad-42cc-9e1d-1eedae56e022",
   "metadata": {},
   "outputs": [],
   "source": [
    "math_score"
   ]
  },
  {
   "cell_type": "code",
   "execution_count": null,
   "id": "2bc26bd0-f36a-4ec9-a4f7-891a9bcb90ca",
   "metadata": {},
   "outputs": [],
   "source": [
    "female_students = df[df.Gender=='Female']"
   ]
  },
  {
   "cell_type": "code",
   "execution_count": null,
   "id": "73aa78d1-79e7-4591-ab90-551e7a4cff48",
   "metadata": {},
   "outputs": [],
   "source": [
    "female_students"
   ]
  },
  {
   "cell_type": "code",
   "execution_count": null,
   "id": "ffb88276-c9cd-4560-9aac-644ef7126e8b",
   "metadata": {},
   "outputs": [],
   "source": [
    "female_75plus = df[(df.Gender == 'Female') & (df.Score > 75)]\n",
    "female_75plus"
   ]
  },
  {
   "cell_type": "code",
   "execution_count": null,
   "id": "1bf891c1-676d-416d-880d-6311ce435b0a",
   "metadata": {},
   "outputs": [],
   "source": [
    "female_students = df[df.Gender == 'Female']\n",
    "male_students   = df[df.Gender == 'Male']\n",
    "\n",
    "female_students_high = female_students[female_students.Score > 75]\n",
    "female_students_high\n",
    "\n",
    "female_subjects_subjects = female_students['Subject'].unique()\n",
    "female_subjects_subjects"
   ]
  },
  {
   "cell_type": "code",
   "execution_count": null,
   "id": "9e964c55-6006-4d31-bc6f-b775ad29e24f",
   "metadata": {},
   "outputs": [],
   "source": [
    "female_students_temp = female_students[female_students['Score'] > 75]\n",
    "female_students_temp"
   ]
  },
  {
   "cell_type": "code",
   "execution_count": null,
   "id": "b4b94513-d6bd-498b-baba-fe5b3ddc836d",
   "metadata": {},
   "outputs": [],
   "source": [
    "distinct_subjects = female_students_temp['Subject'].unique()\n",
    "distinct_subjects"
   ]
  },
  {
   "cell_type": "code",
   "execution_count": null,
   "id": "9a5fcb93-76f0-4471-b6e8-d1ca0e35bc8f",
   "metadata": {},
   "outputs": [],
   "source": [
    "import matplotlib.pyplot as plt"
   ]
  },
  {
   "cell_type": "code",
   "execution_count": null,
   "id": "8cc6819e-1693-47c8-b568-4d57d0ff6753",
   "metadata": {},
   "outputs": [],
   "source": [
    "import matplotlib\n",
    "print(matplotlib.__version__)"
   ]
  },
  {
   "cell_type": "code",
   "execution_count": null,
   "id": "fefc8683-2b2d-4eff-a364-56b1c89a8e0f",
   "metadata": {},
   "outputs": [],
   "source": [
    "xpoints = np.array([0, 6])\n",
    "ypoints = np.array([0, 250])\n",
    "\n",
    "plt.plot(xpoints, ypoints)\n",
    "plt.show()"
   ]
  },
  {
   "cell_type": "code",
   "execution_count": null,
   "id": "c9c524b6-af6c-468d-989b-6785c0de9bcc",
   "metadata": {},
   "outputs": [],
   "source": [
    "plt.hist(df['Score'])\n",
    "plt.title('Score Distribution')\n",
    "plt.xlabel('Score')\n",
    "plt.ylabel('Count')\n",
    "plt.show()"
   ]
  },
  {
   "cell_type": "code",
   "execution_count": null,
   "id": "cb0bff4d-fdf9-479a-a9b4-1ad6d7e33bb0",
   "metadata": {},
   "outputs": [],
   "source": [
    "plt.hist(female_students['Score'])\n",
    "plt.title('Score \"Female\" Distribution')\n",
    "plt.xlabel('Score')\n",
    "plt.ylabel('Count')\n",
    "plt.show()"
   ]
  },
  {
   "cell_type": "code",
   "execution_count": null,
   "id": "614fce91-0f47-46c4-a901-61466dbdc16f",
   "metadata": {},
   "outputs": [],
   "source": [
    "#sorted_scores = female_students['Score'].sort_values()\n",
    "#sorted_scores\n",
    "\n",
    "#plt.hist(female_students['Score'].sort_values())\n",
    "#plt.show()\n",
    "\n",
    "plt.boxplot(df['Score'], vert=False)\n",
    "plt.title('Score Boxplot')\n",
    "plt.xlabel('Score')\n",
    "plt.show()"
   ]
  },
  {
   "cell_type": "code",
   "execution_count": null,
   "id": "28781b51-986d-4678-a7d7-cf7aa59f47a6",
   "metadata": {},
   "outputs": [],
   "source": [
    "plt.boxplot(df['Score'], vert=False)\n",
    "plt.title('Score Boxplot')\n",
    "plt.xlabel('Score')\n",
    "plt.show()\n",
    "\n",
    "median = df['Score'].median()\n",
    "q1, q3 = df['Score'].quantile([0.25, 0.75])\n",
    "iqr = q3 - q1\n",
    "print(iqr, ' | ', q1, ' | ', q3)\n",
    "print(f\"iqr = {iqr}, q1 = {q1}, q3 + {q3}\")"
   ]
  },
  {
   "cell_type": "code",
   "execution_count": null,
   "id": "5a5082eb-b3e7-4dae-9fe6-6a5c8be625ed",
   "metadata": {},
   "outputs": [],
   "source": [
    "counts = df['Subject'].value_counts()\n",
    "counts.plot(kind = 'bar')\n",
    "\n",
    "plt.title('Tests per Subject')\n",
    "plt.xlabel('Subject')\n",
    "plt.ylabel('Count')\n",
    "plt.show()"
   ]
  },
  {
   "cell_type": "code",
   "execution_count": null,
   "id": "897c548f-d7c1-44d9-be18-97f2f24813b2",
   "metadata": {},
   "outputs": [],
   "source": [
    "df['Passed'] = df.Score >= 60\n",
    "pass_counts = df['Passed'].value_counts()\n",
    "pass_counts"
   ]
  },
  {
   "cell_type": "code",
   "execution_count": null,
   "id": "472bb117-e45a-4ffd-acaa-a76b1a1c370b",
   "metadata": {},
   "outputs": [],
   "source": [
    "#df['PassFail'] = \"Pass\" if df.Score >= 60 else \"Fail\"\n",
    "\n",
    "df['PassFail'] = np.where(df['Score'] >= 60, 'Pass', 'Fail')\n",
    "pass_counts = df['PassFail'].value_counts().reindex(['Pass', 'Fail'])\n",
    "pass_counts.plot(kind = 'pie')\n",
    "\n",
    "plt.title('Pass vs Fail')\n",
    "plt.show()"
   ]
  },
  {
   "cell_type": "code",
   "execution_count": null,
   "id": "ddb3fc26-847a-4db7-89a8-23f2d7ba991c",
   "metadata": {},
   "outputs": [],
   "source": [
    "df.columns"
   ]
  },
  {
   "cell_type": "code",
   "execution_count": null,
   "id": "195bd40b-0234-4eaa-b9f4-2e0778cc296d",
   "metadata": {},
   "outputs": [],
   "source": [
    "print(df.columns.tolist())"
   ]
  },
  {
   "cell_type": "code",
   "execution_count": null,
   "id": "1d9c106a-4345-4e7f-94ac-b19f381b537b",
   "metadata": {},
   "outputs": [],
   "source": [
    "print(df.shape)"
   ]
  },
  {
   "cell_type": "code",
   "execution_count": null,
   "id": "41f80eff-99f3-4eb2-a810-c41bee85f75d",
   "metadata": {},
   "outputs": [],
   "source": [
    "df.head(5)"
   ]
  },
  {
   "cell_type": "code",
   "execution_count": null,
   "id": "577e0977-c231-4504-af7b-0f21d9c206b7",
   "metadata": {},
   "outputs": [],
   "source": [
    "# 2. Beginner Code Completion Exercise ...\n",
    "counts = df['Subject'].value_counts()\n",
    "print(counts)\n",
    "print()\n",
    "\n",
    "print(f\"Math\\t: {counts['Math']}\")\n",
    "print(f\"Science\\t: {counts['Science']}\")\n",
    "print(f\"English\\t: {counts['English']}\")\n",
    "print()\n",
    "\n",
    "# OPTION: this was the original way Sam showed us\n",
    "#counts.plot(kind = 'bar')\n",
    "\n",
    "# OPTION 2: this is the syntax he has in the PDF \n",
    "plt.bar(counts.index, counts.values)\n",
    "\n",
    "plt.title('Tests per Subject')\n",
    "plt.xlabel('Subject')\n",
    "plt.ylabel('Count')\n",
    "plt.show()"
   ]
  },
  {
   "cell_type": "code",
   "execution_count": null,
   "id": "1b422f83-a844-484c-b3e0-75e097f8f2d8",
   "metadata": {},
   "outputs": [],
   "source": [
    "import seaborn as sns"
   ]
  },
  {
   "cell_type": "code",
   "execution_count": null,
   "id": "0d77c894-fd41-43e9-b483-654ad73c0896",
   "metadata": {},
   "outputs": [],
   "source": [
    "sns.histplot(df['Score'])\n",
    "plt.show()"
   ]
  },
  {
   "cell_type": "code",
   "execution_count": null,
   "id": "286b5b90-710e-4976-a7a3-eb59bca44e10",
   "metadata": {},
   "outputs": [],
   "source": [
    "sns.countplot(x = 'Subject', data = df)\n",
    "plt.show()"
   ]
  },
  {
   "cell_type": "code",
   "execution_count": null,
   "id": "754161ad-fe5b-4ed4-9077-aa562d048e25",
   "metadata": {},
   "outputs": [],
   "source": [
    "sns.boxplot(x = 'Gender', y = 'Score', data = df)\n",
    "plt.show()"
   ]
  },
  {
   "cell_type": "code",
   "execution_count": null,
   "id": "2a6cc037-1aad-414b-beaa-55ef1e6024c5",
   "metadata": {},
   "outputs": [],
   "source": [
    "sns.violinplot(x = 'Subject', y = 'Score', hue = 'Gender', data = df)\n",
    "plt.title('Score Distribution by Subject/Gender')\n",
    "plt.xlabel('Subject')\n",
    "plt.ylabel('Score')\n",
    "plt.show()"
   ]
  },
  {
   "cell_type": "code",
   "execution_count": null,
   "id": "3bec4ac3-4c3e-461c-bd66-b962bdd7130e",
   "metadata": {},
   "outputs": [],
   "source": [
    "# Build a scatter Plot for Score vs Class Level\n",
    "class_map = {'Class A': 1, 'Class B': 2, 'Class C': 3}\n",
    "\n",
    "df['Class_Level'] = df['Class'].map(class_map)\n",
    "df.head(5)\n"
   ]
  },
  {
   "cell_type": "code",
   "execution_count": null,
   "id": "eb346a81-8de6-4c87-87c2-d1afe75388b9",
   "metadata": {},
   "outputs": [],
   "source": [
    "plt.scatter(df['Class_Level'], df['Score'])\n",
    "plt.xticks([1, 2, 3], ['A', 'B', 'C'])\n",
    "plt.xlabel('Class')\n",
    "plt.ylabel('Score')\n",
    "plt.show()"
   ]
  },
  {
   "cell_type": "code",
   "execution_count": null,
   "id": "5a814beb-015d-44d4-9637-822f0fc75b59",
   "metadata": {},
   "outputs": [],
   "source": [
    "pass_rate = df.groupby('Class')['Passed'].mean()\n",
    "pass_rate.plot(kind = 'bar')\n",
    "\n",
    "plt.ylabel('Pass Rate')\n",
    "plt.title('Pass Rate by Class')\n",
    "\n",
    "plt.ylim(0, 1)\n",
    "plt.show()"
   ]
  },
  {
   "cell_type": "code",
   "execution_count": null,
   "id": "1b2ed518-6ca1-4c00-bce8-737a26501d5e",
   "metadata": {},
   "outputs": [],
   "source": [
    "sns.catplot(x = 'Subject', y = 'Score', hue = 'Gender', kind = 'bar', data = df)\n",
    "plt.title('Score by Subject and Gender')\n",
    "plt.show()"
   ]
  },
  {
   "cell_type": "code",
   "execution_count": null,
   "id": "0e246bdf-c8f1-4dc3-9239-b4403c0b1fc3",
   "metadata": {},
   "outputs": [],
   "source": [
    "df['Month'] = df['Test_Date'].dt.month\n",
    "#df['Year'] = df['Test_Date'].dt.year\n",
    "#df['Day'] = df['Test_Date'].dt.day\n",
    "\n",
    "num_df = df[['Score', 'Class_Level', 'Month']]\n",
    "corr = num_df.corr()\n",
    "\n",
    "sns.heatmap(corr, annot = True, fmt = '.2f')\n",
    "plt.show()"
   ]
  },
  {
   "cell_type": "code",
   "execution_count": null,
   "id": "0b6fdfd0-328d-4602-9391-0317d0ff1ea1",
   "metadata": {},
   "outputs": [],
   "source": []
  }
 ],
 "metadata": {
  "kernelspec": {
   "display_name": ".venv",
   "language": "python",
   "name": "python3"
  },
  "language_info": {
   "codemirror_mode": {
    "name": "ipython",
    "version": 3
   },
   "file_extension": ".py",
   "mimetype": "text/x-python",
   "name": "python",
   "nbconvert_exporter": "python",
   "pygments_lexer": "ipython3",
   "version": "3.13.5"
  }
 },
 "nbformat": 4,
 "nbformat_minor": 5
}
