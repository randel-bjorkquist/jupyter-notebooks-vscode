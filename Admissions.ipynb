{
 "cells": [
  {
   "cell_type": "code",
   "execution_count": 1,
   "id": "13d4cb47",
   "metadata": {},
   "outputs": [],
   "source": [
    "# Uncomment the following line to install seaborn\n",
    "#%pip install numpy\n",
    "#%pip install pandas\n",
    "#%pip install seaborn"
   ]
  },
  {
   "cell_type": "code",
   "execution_count": 2,
   "id": "64dd1345",
   "metadata": {},
   "outputs": [],
   "source": [
    "#import numpy as np\n",
    "import pandas as pd\n",
    "import seaborn as sns\n",
    "import matplotlib.pyplot as plt"
   ]
  },
  {
   "cell_type": "code",
   "execution_count": 3,
   "id": "f09396b5",
   "metadata": {},
   "outputs": [],
   "source": [
    "# import our dataset\n",
    "# NOTE: the variable 'df' represents 'data frame'\n",
    "#full_path = \"C:\\\\Users\\\\randel.bjorkquist\\\\Documents\\\\QuickStart\\\\DataScience\\\\Student_Performance.csv\"\n",
    "#df = pd.read_csv(full_path, parse_dates=['Test_Date'])\n",
    "\n",
    "df = pd.read_csv('./data/admissions.csv', parse_dates=['application_date'], dtype={'approved': 'boolean'})\n",
    "#df = pd.read_csv('./data/admissions.csv', dtype={'application_date': 'datetime64[ns]'}, dtype={'approved': 'boolean'})\n"
   ]
  },
  {
   "cell_type": "code",
   "execution_count": 4,
   "id": "81557563",
   "metadata": {},
   "outputs": [
    {
     "data": {
      "text/html": [
       "<div>\n",
       "<style scoped>\n",
       "    .dataframe tbody tr th:only-of-type {\n",
       "        vertical-align: middle;\n",
       "    }\n",
       "\n",
       "    .dataframe tbody tr th {\n",
       "        vertical-align: top;\n",
       "    }\n",
       "\n",
       "    .dataframe thead th {\n",
       "        text-align: right;\n",
       "    }\n",
       "</style>\n",
       "<table border=\"1\" class=\"dataframe\">\n",
       "  <thead>\n",
       "    <tr style=\"text-align: right;\">\n",
       "      <th></th>\n",
       "      <th>age</th>\n",
       "      <th>employed</th>\n",
       "      <th>income</th>\n",
       "      <th>credit_score</th>\n",
       "      <th>region</th>\n",
       "      <th>application_date</th>\n",
       "      <th>approved</th>\n",
       "    </tr>\n",
       "  </thead>\n",
       "  <tbody>\n",
       "    <tr>\n",
       "      <th>0</th>\n",
       "      <td>22</td>\n",
       "      <td>0</td>\n",
       "      <td>39879</td>\n",
       "      <td>507</td>\n",
       "      <td>West</td>\n",
       "      <td>2023-04-26</td>\n",
       "      <td>False</td>\n",
       "    </tr>\n",
       "    <tr>\n",
       "      <th>1</th>\n",
       "      <td>55</td>\n",
       "      <td>1</td>\n",
       "      <td>39475</td>\n",
       "      <td>509</td>\n",
       "      <td>North</td>\n",
       "      <td>2023-10-09</td>\n",
       "      <td>False</td>\n",
       "    </tr>\n",
       "    <tr>\n",
       "      <th>2</th>\n",
       "      <td>49</td>\n",
       "      <td>0</td>\n",
       "      <td>36435</td>\n",
       "      <td>486</td>\n",
       "      <td>East</td>\n",
       "      <td>2024-07-04</td>\n",
       "      <td>False</td>\n",
       "    </tr>\n",
       "    <tr>\n",
       "      <th>3</th>\n",
       "      <td>39</td>\n",
       "      <td>1</td>\n",
       "      <td>15000</td>\n",
       "      <td>311</td>\n",
       "      <td>East</td>\n",
       "      <td>2023-07-17</td>\n",
       "      <td>False</td>\n",
       "    </tr>\n",
       "    <tr>\n",
       "      <th>4</th>\n",
       "      <td>38</td>\n",
       "      <td>1</td>\n",
       "      <td>27037</td>\n",
       "      <td>452</td>\n",
       "      <td>West</td>\n",
       "      <td>2023-04-07</td>\n",
       "      <td>False</td>\n",
       "    </tr>\n",
       "  </tbody>\n",
       "</table>\n",
       "</div>"
      ],
      "text/plain": [
       "   age  employed  income  credit_score region application_date  approved\n",
       "0   22         0   39879           507   West       2023-04-26     False\n",
       "1   55         1   39475           509  North       2023-10-09     False\n",
       "2   49         0   36435           486   East       2024-07-04     False\n",
       "3   39         1   15000           311   East       2023-07-17     False\n",
       "4   38         1   27037           452   West       2023-04-07     False"
      ]
     },
     "execution_count": 4,
     "metadata": {},
     "output_type": "execute_result"
    }
   ],
   "source": [
    "df.head()"
   ]
  },
  {
   "cell_type": "code",
   "execution_count": 5,
   "id": "e5e2b871",
   "metadata": {},
   "outputs": [
    {
     "name": "stdout",
     "output_type": "stream",
     "text": [
      "(300, 7)\n",
      "Index(['age', 'employed', 'income', 'credit_score', 'region',\n",
      "       'application_date', 'approved'],\n",
      "      dtype='object')\n"
     ]
    }
   ],
   "source": [
    "print(df.shape)\n",
    "print(df.columns)\n"
   ]
  },
  {
   "cell_type": "code",
   "execution_count": 6,
   "id": "c30c9274",
   "metadata": {},
   "outputs": [
    {
     "name": "stdout",
     "output_type": "stream",
     "text": [
      "Data Types:\n",
      "age                          int64\n",
      "employed                     int64\n",
      "income                       int64\n",
      "credit_score                 int64\n",
      "region                      object\n",
      "application_date    datetime64[ns]\n",
      "approved                   boolean\n",
      "dtype: object\n",
      "\n",
      "Missing values per column:\n",
      "age                 0\n",
      "employed            0\n",
      "income              0\n",
      "credit_score        0\n",
      "region              0\n",
      "application_date    0\n",
      "approved            0\n",
      "dtype: int64\n",
      "\n",
      "Number of duplicationed rows: 0\n"
     ]
    }
   ],
   "source": [
    "print(\"Data Types:\")\n",
    "print(df.dtypes)\n",
    "\n",
    "print(\"\\nMissing values per column:\")\n",
    "print(df.isna().sum())\n",
    "\n",
    "#NOTE: Check if there are any duplicated rows\n",
    "print('\\nNumber of duplicationed rows:', df.duplicated().sum())\n"
   ]
  },
  {
   "cell_type": "code",
   "execution_count": 7,
   "id": "70a8dcd7",
   "metadata": {},
   "outputs": [
    {
     "name": "stdout",
     "output_type": "stream",
     "text": [
      "describe\n",
      "              age    employed        income  credit_score     application_date\n",
      "count  300.000000  300.000000    300.000000    300.000000                  300\n",
      "mean    41.470000    0.503333  34834.810000    475.800000  2024-01-02 03:21:36\n",
      "min     18.000000    0.000000  15000.000000    300.000000  2023-01-01 00:00:00\n",
      "25%     31.000000    0.000000  27478.250000    401.500000  2023-06-24 18:00:00\n",
      "50%     41.000000    1.000000  34653.500000    475.000000  2023-12-22 12:00:00\n",
      "75%     52.250000    1.000000  42415.250000    545.250000  2024-07-22 06:00:00\n",
      "max     65.000000    1.000000  71989.000000    833.000000  2024-12-28 00:00:00\n",
      "std     13.085866    0.500824  11242.031444    105.234282                  NaN\n"
     ]
    }
   ],
   "source": [
    "print(\"describe\")\n",
    "print(df.describe())\n"
   ]
  },
  {
   "cell_type": "code",
   "execution_count": 8,
   "id": "c00d4c89",
   "metadata": {},
   "outputs": [
    {
     "name": "stdout",
     "output_type": "stream",
     "text": [
      "Unique Values per Column\n",
      "age                  48\n",
      "employed              2\n",
      "income              287\n",
      "credit_score        200\n",
      "region                4\n",
      "application_date    251\n",
      "approved              2\n",
      "dtype: int64\n"
     ]
    }
   ],
   "source": [
    "print('Unique Values per Column')\n",
    "print(df.nunique())"
   ]
  },
  {
   "cell_type": "code",
   "execution_count": null,
   "id": "02b8a393",
   "metadata": {},
   "outputs": [
    {
     "data": {
      "image/png": "[encoded data removed]",
      "text/plain": [
       "<Figure size 640x480 with 1 Axes>"
      ]
     },
     "metadata": {},
     "output_type": "display_data"
    }
   ],
   "source": [
    "plt.hist(df['age'], bins=10)\n",
    "plt.title('Age Distribution')\n",
    "plt.xlabel('Age')\n",
    "plt.ylabel('Count')\n",
    "plt.show()\n"
   ]
  },
  {
   "cell_type": "code",
   "execution_count": 12,
   "id": "66de8700",
   "metadata": {},
   "outputs": [
    {
     "data": {
      "image/png": "[encoded data removed]",
      "text/plain": [
       "<Figure size 640x480 with 1 Axes>"
      ]
     },
     "metadata": {},
     "output_type": "display_data"
    }
   ],
   "source": [
    "plt.boxplot(df['income'], vert = False)\n",
    "plt.show()"
   ]
  },
  {
   "cell_type": "code",
   "execution_count": null,
   "id": "bd5df1c1",
   "metadata": {},
   "outputs": [],
   "source": []
  }
 ],
 "metadata": {
  "kernelspec": {
   "display_name": ".venv",
   "language": "python",
   "name": "python3"
  },
  "language_info": {
   "codemirror_mode": {
    "name": "ipython",
    "version": 3
   },
   "file_extension": ".py",
   "mimetype": "text/x-python",
   "name": "python",
   "nbconvert_exporter": "python",
   "pygments_lexer": "ipython3",
   "version": "3.13.5"
  }
 },
 "nbformat": 4,
 "nbformat_minor": 5
}
