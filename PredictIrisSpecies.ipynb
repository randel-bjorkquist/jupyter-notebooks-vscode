{
 "cells": [
  {
   "cell_type": "code",
   "execution_count": null,
   "id": "1499af9f",
   "metadata": {},
   "outputs": [],
   "source": [
    "# SYSTEM: Please ensure that the necessary libraries are installed\n",
    "# Uncomment the following line to install seaborn\n",
    "#%pip install numpy\n",
    "#%pip install pandas\n",
    "#%pip install matplotlib\n",
    "#%pip install scikit-learn"
   ]
  },
  {
   "cell_type": "code",
   "execution_count": null,
   "id": "02ce4318",
   "metadata": {},
   "outputs": [],
   "source": [
    "## PREVIOUS: we've imported these previously and shouldn't have any issues doing it again ...\n",
    "import numpy             as np\n",
    "import pandas            as pd\n",
    "import matplotlib.pyplot as plt\n",
    "\n",
    "## NEW IMPORTS - importing classes from specific files ...\n",
    "from sklearn.datasets        import load_iris\n",
    "from sklearn.model_selection import train_test_split\n",
    "from sklearn.neighbors       import KNeighborsClassifier\n",
    "from sklearn.metrics         import accuracy_score"
   ]
  },
  {
   "cell_type": "code",
   "execution_count": null,
   "id": "c4ced2c9",
   "metadata": {},
   "outputs": [],
   "source": [
    "iris = load_iris(as_frame = True)\n",
    "df = iris.frame.copy()\n",
    "\n",
    "print(\"'df.head()' prints the first five rows:\")\n",
    "df.head()"
   ]
  },
  {
   "cell_type": "code",
   "execution_count": null,
   "id": "a70c2a92",
   "metadata": {},
   "outputs": [],
   "source": [
    "print(df.shape)\n",
    "print(df.columns)"
   ]
  },
  {
   "cell_type": "code",
   "execution_count": null,
   "id": "7c4d9ec4",
   "metadata": {},
   "outputs": [],
   "source": [
    "# NOTE: Cleaning up the column names, removing extra spaces and '(cm)' from the column names\n",
    "df.columns = [name.replace(\" (cm)\", '')\n",
    "                  .replace(' ', '_') for name in df.columns]\n",
    "\n",
    "df.head()"
   ]
  },
  {
   "cell_type": "code",
   "execution_count": null,
   "id": "d0b1c20f",
   "metadata": {},
   "outputs": [],
   "source": [
    "print(\"Data Types:\")\n",
    "print(df.dtypes)\n",
    "\n",
    "print(\"\\nMissing values per column:\")\n",
    "print(df.isna().sum())\n",
    "\n",
    "#NOTE: Check if there are any duplicated rows\n",
    "print('\\nNumber of duplicationed rows:', df.duplicated().sum())"
   ]
  },
  {
   "cell_type": "code",
   "execution_count": null,
   "id": "dd3a612d",
   "metadata": {},
   "outputs": [],
   "source": [
    "#STEPs: separate data into TEST and TRAIN\n",
    "#  X (Features) and Y (Target)\n",
    "\n",
    "X = df.drop(columns = [\"target\"])\n",
    "Y = df[\"target\"]\n",
    "\n",
    "#INFO: we need training data (80%) and test data (20%)\n",
    "#      X_train, X_test, Y_train, Y_test\n",
    "\n",
    "X_train, X_test, Y_train, Y_test = train_test_split(X, Y, test_size = 0.2, random_state = 42, stratify = Y)\n",
    "\n",
    "print('X_train.shape:', X_train.shape)\n",
    "print('X_test.shape:', X_test.shape, end ='\\n\\n')\n",
    "\n",
    "print('Y_train.shape:', Y_train.shape)\n",
    "print('Y_test.shape:', Y_test.shape)"
   ]
  },
  {
   "cell_type": "code",
   "execution_count": null,
   "id": "8689964c",
   "metadata": {},
   "outputs": [],
   "source": [
    "knn_quick = KNeighborsClassifier(n_neighbors = 5)\n",
    "\n",
    "#Fit (learn) the model using the training data\n",
    "knn_quick.fit(X_train, Y_train)"
   ]
  },
  {
   "cell_type": "code",
   "execution_count": null,
   "id": "15b2f58a",
   "metadata": {},
   "outputs": [],
   "source": [
    "#Pink an example from X-test\n",
    "one_example = X_test.iloc[[0]]\n",
    "\n",
    "print('one_example')\n",
    "print(one_example)\n",
    "\n",
    "print('one_example.shape')\n",
    "print(one_example.shape)\n",
    "\n",
    "#Ask model to predict class for this example\n",
    "one_predict = knn_quick.predict(one_example)[0]\n",
    "print('one_predict', one_predict)\n",
    "print(int(one_predict), \"label is: \", iris.target_names[int(one_predict)])"
   ]
  },
  {
   "cell_type": "code",
   "execution_count": null,
   "id": "8ba6a1bd",
   "metadata": {},
   "outputs": [],
   "source": [
    "#Use our quick model to predict every row in the test set\n",
    "test_predictions = knn_quick.predict(X_test)\n",
    "test_accuracy    = accuracy_score(Y_test, test_predictions)\n",
    "\n",
    "print(test_accuracy)"
   ]
  },
  {
   "cell_type": "code",
   "execution_count": null,
   "id": "cdf6ff2e",
   "metadata": {},
   "outputs": [],
   "source": []
  }
 ],
 "metadata": {
  "kernelspec": {
   "display_name": ".venv",
   "language": "python",
   "name": "python3"
  },
  "language_info": {
   "codemirror_mode": {
    "name": "ipython",
    "version": 3
   },
   "file_extension": ".py",
   "mimetype": "text/x-python",
   "name": "python",
   "nbconvert_exporter": "python",
   "pygments_lexer": "ipython3",
   "version": "3.13.5"
  }
 },
 "nbformat": 4,
 "nbformat_minor": 5
}
