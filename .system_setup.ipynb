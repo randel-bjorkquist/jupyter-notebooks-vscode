{
 "cells": [
  {
   "cell_type": "code",
   "execution_count": null,
   "id": "2d8ded38",
   "metadata": {},
   "outputs": [],
   "source": [
    "# SYSTEM: Please ensure that the necessary libraries are installed\n",
    "# Uncomment the following line to install these modules if they are not already installed\n",
    "\n",
    "%pip install numpy\n",
    "%pip install pandas\n",
    "%pip install jinja2\n",
    "%pip install seaborn\n",
    "%pip install matplotlib\n",
    "%pip install scikit-learn\n",
    "%pip install imbalanced-learn\n",
    "\n",
    "#%pip show openpyxl\n",
    "%pip install openpyxl\n",
    "#%pip uninstall -y openpyxl\n",
    "\n",
    "%pip install tabulate\n"
   ]
  }
 ],
 "metadata": {
  "kernelspec": {
   "display_name": ".venv",
   "language": "python",
   "name": "python3"
  },
  "language_info": {
   "codemirror_mode": {
    "name": "ipython",
    "version": 3
   },
   "file_extension": ".py",
   "mimetype": "text/x-python",
   "name": "python",
   "nbconvert_exporter": "python",
   "pygments_lexer": "ipython3",
   "version": "3.13.5"
  }
 },
 "nbformat": 4,
 "nbformat_minor": 5
}
