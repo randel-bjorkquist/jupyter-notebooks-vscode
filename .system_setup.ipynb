{
 "cells": [
  {
   "cell_type": "code",
   "execution_count": 1,
   "id": "2d8ded38",
   "metadata": {},
   "outputs": [
    {
     "name": "stdout",
     "output_type": "stream",
     "text": [
      "Requirement already satisfied: numpy in d:\\repos\\randel-bjorkquist\\jupyternotebooks\\jupyter-notebooks-vscode\\.venv\\lib\\site-packages (2.3.2)\n",
      "Note: you may need to restart the kernel to use updated packages.\n",
      "Requirement already satisfied: pandas in d:\\repos\\randel-bjorkquist\\jupyternotebooks\\jupyter-notebooks-vscode\\.venv\\lib\\site-packages (2.3.2)\n",
      "Requirement already satisfied: numpy>=1.26.0 in d:\\repos\\randel-bjorkquist\\jupyternotebooks\\jupyter-notebooks-vscode\\.venv\\lib\\site-packages (from pandas) (2.3.2)\n",
      "Requirement already satisfied: python-dateutil>=2.8.2 in d:\\repos\\randel-bjorkquist\\jupyternotebooks\\jupyter-notebooks-vscode\\.venv\\lib\\site-packages (from pandas) (2.9.0.post0)\n",
      "Requirement already satisfied: pytz>=2020.1 in d:\\repos\\randel-bjorkquist\\jupyternotebooks\\jupyter-notebooks-vscode\\.venv\\lib\\site-packages (from pandas) (2025.2)\n",
      "Requirement already satisfied: tzdata>=2022.7 in d:\\repos\\randel-bjorkquist\\jupyternotebooks\\jupyter-notebooks-vscode\\.venv\\lib\\site-packages (from pandas) (2025.2)\n",
      "Requirement already satisfied: six>=1.5 in d:\\repos\\randel-bjorkquist\\jupyternotebooks\\jupyter-notebooks-vscode\\.venv\\lib\\site-packages (from python-dateutil>=2.8.2->pandas) (1.17.0)\n",
      "Note: you may need to restart the kernel to use updated packages.\n",
      "Collecting jinja2\n",
      "  Using cached jinja2-3.1.6-py3-none-any.whl.metadata (2.9 kB)\n",
      "Collecting MarkupSafe>=2.0 (from jinja2)\n",
      "  Using cached MarkupSafe-3.0.2-cp313-cp313-win_amd64.whl.metadata (4.1 kB)\n",
      "Using cached jinja2-3.1.6-py3-none-any.whl (134 kB)\n",
      "Using cached MarkupSafe-3.0.2-cp313-cp313-win_amd64.whl (15 kB)\n",
      "Installing collected packages: MarkupSafe, jinja2\n",
      "\n",
      "   ---------------------------------------- 2/2 [jinja2]\n",
      "\n",
      "Successfully installed MarkupSafe-3.0.2 jinja2-3.1.6\n",
      "Note: you may need to restart the kernel to use updated packages.\n",
      "Requirement already satisfied: seaborn in d:\\repos\\randel-bjorkquist\\jupyternotebooks\\jupyter-notebooks-vscode\\.venv\\lib\\site-packages (0.13.2)\n",
      "Requirement already satisfied: numpy!=1.24.0,>=1.20 in d:\\repos\\randel-bjorkquist\\jupyternotebooks\\jupyter-notebooks-vscode\\.venv\\lib\\site-packages (from seaborn) (2.3.2)\n",
      "Requirement already satisfied: pandas>=1.2 in d:\\repos\\randel-bjorkquist\\jupyternotebooks\\jupyter-notebooks-vscode\\.venv\\lib\\site-packages (from seaborn) (2.3.2)\n",
      "Requirement already satisfied: matplotlib!=3.6.1,>=3.4 in d:\\repos\\randel-bjorkquist\\jupyternotebooks\\jupyter-notebooks-vscode\\.venv\\lib\\site-packages (from seaborn) (3.10.6)\n",
      "Requirement already satisfied: contourpy>=1.0.1 in d:\\repos\\randel-bjorkquist\\jupyternotebooks\\jupyter-notebooks-vscode\\.venv\\lib\\site-packages (from matplotlib!=3.6.1,>=3.4->seaborn) (1.3.3)\n",
      "Requirement already satisfied: cycler>=0.10 in d:\\repos\\randel-bjorkquist\\jupyternotebooks\\jupyter-notebooks-vscode\\.venv\\lib\\site-packages (from matplotlib!=3.6.1,>=3.4->seaborn) (0.12.1)\n",
      "Requirement already satisfied: fonttools>=4.22.0 in d:\\repos\\randel-bjorkquist\\jupyternotebooks\\jupyter-notebooks-vscode\\.venv\\lib\\site-packages (from matplotlib!=3.6.1,>=3.4->seaborn) (4.59.2)\n",
      "Requirement already satisfied: kiwisolver>=1.3.1 in d:\\repos\\randel-bjorkquist\\jupyternotebooks\\jupyter-notebooks-vscode\\.venv\\lib\\site-packages (from matplotlib!=3.6.1,>=3.4->seaborn) (1.4.9)\n",
      "Requirement already satisfied: packaging>=20.0 in d:\\repos\\randel-bjorkquist\\jupyternotebooks\\jupyter-notebooks-vscode\\.venv\\lib\\site-packages (from matplotlib!=3.6.1,>=3.4->seaborn) (25.0)\n",
      "Requirement already satisfied: pillow>=8 in d:\\repos\\randel-bjorkquist\\jupyternotebooks\\jupyter-notebooks-vscode\\.venv\\lib\\site-packages (from matplotlib!=3.6.1,>=3.4->seaborn) (11.3.0)\n",
      "Requirement already satisfied: pyparsing>=2.3.1 in d:\\repos\\randel-bjorkquist\\jupyternotebooks\\jupyter-notebooks-vscode\\.venv\\lib\\site-packages (from matplotlib!=3.6.1,>=3.4->seaborn) (3.2.3)\n",
      "Requirement already satisfied: python-dateutil>=2.7 in d:\\repos\\randel-bjorkquist\\jupyternotebooks\\jupyter-notebooks-vscode\\.venv\\lib\\site-packages (from matplotlib!=3.6.1,>=3.4->seaborn) (2.9.0.post0)\n",
      "Requirement already satisfied: pytz>=2020.1 in d:\\repos\\randel-bjorkquist\\jupyternotebooks\\jupyter-notebooks-vscode\\.venv\\lib\\site-packages (from pandas>=1.2->seaborn) (2025.2)\n",
      "Requirement already satisfied: tzdata>=2022.7 in d:\\repos\\randel-bjorkquist\\jupyternotebooks\\jupyter-notebooks-vscode\\.venv\\lib\\site-packages (from pandas>=1.2->seaborn) (2025.2)\n",
      "Requirement already satisfied: six>=1.5 in d:\\repos\\randel-bjorkquist\\jupyternotebooks\\jupyter-notebooks-vscode\\.venv\\lib\\site-packages (from python-dateutil>=2.7->matplotlib!=3.6.1,>=3.4->seaborn) (1.17.0)\n",
      "Note: you may need to restart the kernel to use updated packages.\n",
      "Requirement already satisfied: matplotlib in d:\\repos\\randel-bjorkquist\\jupyternotebooks\\jupyter-notebooks-vscode\\.venv\\lib\\site-packages (3.10.6)\n",
      "Requirement already satisfied: contourpy>=1.0.1 in d:\\repos\\randel-bjorkquist\\jupyternotebooks\\jupyter-notebooks-vscode\\.venv\\lib\\site-packages (from matplotlib) (1.3.3)\n",
      "Requirement already satisfied: cycler>=0.10 in d:\\repos\\randel-bjorkquist\\jupyternotebooks\\jupyter-notebooks-vscode\\.venv\\lib\\site-packages (from matplotlib) (0.12.1)\n",
      "Requirement already satisfied: fonttools>=4.22.0 in d:\\repos\\randel-bjorkquist\\jupyternotebooks\\jupyter-notebooks-vscode\\.venv\\lib\\site-packages (from matplotlib) (4.59.2)\n",
      "Requirement already satisfied: kiwisolver>=1.3.1 in d:\\repos\\randel-bjorkquist\\jupyternotebooks\\jupyter-notebooks-vscode\\.venv\\lib\\site-packages (from matplotlib) (1.4.9)\n",
      "Requirement already satisfied: numpy>=1.23 in d:\\repos\\randel-bjorkquist\\jupyternotebooks\\jupyter-notebooks-vscode\\.venv\\lib\\site-packages (from matplotlib) (2.3.2)\n",
      "Requirement already satisfied: packaging>=20.0 in d:\\repos\\randel-bjorkquist\\jupyternotebooks\\jupyter-notebooks-vscode\\.venv\\lib\\site-packages (from matplotlib) (25.0)\n",
      "Requirement already satisfied: pillow>=8 in d:\\repos\\randel-bjorkquist\\jupyternotebooks\\jupyter-notebooks-vscode\\.venv\\lib\\site-packages (from matplotlib) (11.3.0)\n",
      "Requirement already satisfied: pyparsing>=2.3.1 in d:\\repos\\randel-bjorkquist\\jupyternotebooks\\jupyter-notebooks-vscode\\.venv\\lib\\site-packages (from matplotlib) (3.2.3)\n",
      "Requirement already satisfied: python-dateutil>=2.7 in d:\\repos\\randel-bjorkquist\\jupyternotebooks\\jupyter-notebooks-vscode\\.venv\\lib\\site-packages (from matplotlib) (2.9.0.post0)\n",
      "Requirement already satisfied: six>=1.5 in d:\\repos\\randel-bjorkquist\\jupyternotebooks\\jupyter-notebooks-vscode\\.venv\\lib\\site-packages (from python-dateutil>=2.7->matplotlib) (1.17.0)\n",
      "Note: you may need to restart the kernel to use updated packages.\n",
      "Requirement already satisfied: scikit-learn in d:\\repos\\randel-bjorkquist\\jupyternotebooks\\jupyter-notebooks-vscode\\.venv\\lib\\site-packages (1.7.1)\n",
      "Requirement already satisfied: numpy>=1.22.0 in d:\\repos\\randel-bjorkquist\\jupyternotebooks\\jupyter-notebooks-vscode\\.venv\\lib\\site-packages (from scikit-learn) (2.3.2)\n",
      "Requirement already satisfied: scipy>=1.8.0 in d:\\repos\\randel-bjorkquist\\jupyternotebooks\\jupyter-notebooks-vscode\\.venv\\lib\\site-packages (from scikit-learn) (1.16.1)\n",
      "Requirement already satisfied: joblib>=1.2.0 in d:\\repos\\randel-bjorkquist\\jupyternotebooks\\jupyter-notebooks-vscode\\.venv\\lib\\site-packages (from scikit-learn) (1.5.2)\n",
      "Requirement already satisfied: threadpoolctl>=3.1.0 in d:\\repos\\randel-bjorkquist\\jupyternotebooks\\jupyter-notebooks-vscode\\.venv\\lib\\site-packages (from scikit-learn) (3.6.0)\n",
      "Note: you may need to restart the kernel to use updated packages.\n",
      "Requirement already satisfied: imbalanced-learn in d:\\repos\\randel-bjorkquist\\jupyternotebooks\\jupyter-notebooks-vscode\\.venv\\lib\\site-packages (0.14.0)\n",
      "Requirement already satisfied: numpy<3,>=1.25.2 in d:\\repos\\randel-bjorkquist\\jupyternotebooks\\jupyter-notebooks-vscode\\.venv\\lib\\site-packages (from imbalanced-learn) (2.3.2)\n",
      "Requirement already satisfied: scipy<2,>=1.11.4 in d:\\repos\\randel-bjorkquist\\jupyternotebooks\\jupyter-notebooks-vscode\\.venv\\lib\\site-packages (from imbalanced-learn) (1.16.1)\n",
      "Requirement already satisfied: scikit-learn<2,>=1.4.2 in d:\\repos\\randel-bjorkquist\\jupyternotebooks\\jupyter-notebooks-vscode\\.venv\\lib\\site-packages (from imbalanced-learn) (1.7.1)\n",
      "Requirement already satisfied: joblib<2,>=1.2.0 in d:\\repos\\randel-bjorkquist\\jupyternotebooks\\jupyter-notebooks-vscode\\.venv\\lib\\site-packages (from imbalanced-learn) (1.5.2)\n",
      "Requirement already satisfied: threadpoolctl<4,>=2.0.0 in d:\\repos\\randel-bjorkquist\\jupyternotebooks\\jupyter-notebooks-vscode\\.venv\\lib\\site-packages (from imbalanced-learn) (3.6.0)\n",
      "Note: you may need to restart the kernel to use updated packages.\n"
     ]
    }
   ],
   "source": [
    "# SYSTEM: Please ensure that the necessary libraries are installed\n",
    "# Uncomment the following line to install these modules if they are not already installed\n",
    "\n",
    "%pip install numpy\n",
    "%pip install pandas\n",
    "%pip install jinja2\n",
    "%pip install seaborn\n",
    "%pip install matplotlib\n",
    "%pip install scikit-learn\n",
    "%pip install imbalanced-learn\n"
   ]
  }
 ],
 "metadata": {
  "kernelspec": {
   "display_name": ".venv",
   "language": "python",
   "name": "python3"
  },
  "language_info": {
   "codemirror_mode": {
    "name": "ipython",
    "version": 3
   },
   "file_extension": ".py",
   "mimetype": "text/x-python",
   "name": "python",
   "nbconvert_exporter": "python",
   "pygments_lexer": "ipython3",
   "version": "3.13.5"
  }
 },
 "nbformat": 4,
 "nbformat_minor": 5
}
