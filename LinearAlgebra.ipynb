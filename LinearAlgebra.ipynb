{
 "cells": [
  {
   "cell_type": "code",
   "execution_count": null,
   "id": "4754ffb9",
   "metadata": {},
   "outputs": [],
   "source": [
    "# Uncomment the following line to install seaborn\n",
    "#%pip install numpy\n",
    "#%pip install pandas\n",
    "#%pip install seaborn"
   ]
  },
  {
   "cell_type": "code",
   "execution_count": null,
   "id": "cca8e341-576d-4a8c-8ae3-7b61708de62c",
   "metadata": {},
   "outputs": [],
   "source": [
    "# --import(s) ----------\n",
    "import numpy as np\n",
    "\n",
    "# -- Contents 2 Cover --\n",
    "# Linear Algebra\n",
    "# Matrices and Vectors\n",
    "# The NumPy Library\n",
    "# Solving Linear Equations\n",
    "# Python Examples\n",
    "\n",
    "# Matrixs are defined by Rows x Columns\n",
    "\n",
    "a = [1, 3, 7, 2]\n",
    "\n",
    "print('print(a)')\n",
    "print(a)\n",
    "print(\"\")\n",
    "\n",
    "A = [ [1 , 3 ,  7 ,  2]\n",
    "     ,[5 , 8 , -9 ,  0]\n",
    "     ,[6 ,-7 , 11 , 12]]\n",
    "\n",
    "print('print(A)')\n",
    "print(A)\n",
    "print()\n",
    "\n",
    "a = np.array([ [1]\n",
    "              ,[3]\n",
    "              ,[7]\n",
    "              ,[2] ])\n",
    "\n",
    "print('print(\"a = \", a)')\n",
    "print(\"a = \", a)\n",
    "print()\n",
    "\n",
    "A = np.matrix([ [1 ,  3 ,  7 ,  2]\n",
    "               ,[5 ,  8 , -9 ,  0]\n",
    "               ,[6 , -7 , 11 , 12] ])\n",
    "\n",
    "print(\"print('A = ', A)\")\n",
    "print(\"A = \", A)\n",
    "print()\n"
   ]
  },
  {
   "cell_type": "code",
   "execution_count": null,
   "id": "c7eb549e-08e4-4894-91ec-e3fddb87732c",
   "metadata": {},
   "outputs": [],
   "source": [
    "# IMPORTANT: notice the multiplication result, it's different that using an array ... THIS IS CORRECT FOR MATRIX MULTIPLICATION\n",
    "A = np.matrix([ [ 0 ,  1]\n",
    "               ,[-2 , -3] ])\n",
    "\n",
    "B = np.matrix([ [1 ,  0]\n",
    "               ,[3 , -2] ])\n",
    "\n",
    "C = A + B\n",
    "print(\"A + B = \", C)\n",
    "\n",
    "C = A - B\n",
    "print(\"A - B = \", C)\n",
    "\n",
    "C = A * B\n",
    "print(\"A * B = \", C)"
   ]
  },
  {
   "cell_type": "code",
   "execution_count": null,
   "id": "3217ed61-61bf-497a-b71a-ffd9eb4bcc6c",
   "metadata": {},
   "outputs": [],
   "source": [
    "# IMPORTANT: notice the multiplication result, it's different that using a matrix ... THIS IS INCORRECT FOR MATRIX MULTIPLICATION\n",
    "A = np.array([ [ 0 ,  1]\n",
    "              ,[-2 , -3] ])\n",
    "\n",
    "B = np.array([ [1 ,  0]\n",
    "              ,[3 , -2] ])\n",
    "\n",
    "C = A + B\n",
    "print(\"A + B = \", C)\n",
    "\n",
    "C = A - B\n",
    "print(\"A - B = \", C)\n",
    "\n",
    "# NOTE: this DOES NOT WORK, it performs elementwise multiplication\n",
    "C = A * B \n",
    "print(\"A * B = \", C)"
   ]
  },
  {
   "cell_type": "code",
   "execution_count": null,
   "id": "4bc97b38-55a1-4cef-9990-46eadc30d636",
   "metadata": {},
   "outputs": [],
   "source": [
    "# NOTE: Working Alternatives, using array vs matrix\n",
    "A = np.array([ [ 0 ,  1]\n",
    "              ,[-2 , -3] ])\n",
    "\n",
    "B = np.array([ [1 ,  0]\n",
    "              ,[3 , -2] ])\n",
    "\n",
    "C = A.dot(B)\n",
    "print(\"A.dot(B) = \", C)\n",
    "\n",
    "C = np.dot(A, B) \n",
    "print(\"np.dot(A, B) = \", C)\n",
    "\n",
    "# IMPORTANT: this option was depreciated and np.mat was removed in NumPy 2.0 release\n",
    "#C = np.mat(A) * np.mat(B) \n",
    "#print(\"np.mat(A) * np.mat(B) = \", C)\n",
    "\n",
    "C = np.asmatrix(A) * np.asmatrix(B) \n",
    "print(\"np.asmatrix(A) * np.asmatrix(B) = \", C)\n",
    "\n",
    "C = np.matmul(A, B) \n",
    "print(\"np.matmul(A, B) = \", C)"
   ]
  },
  {
   "cell_type": "code",
   "execution_count": null,
   "id": "1db39a07-b1db-40af-ac63-94857cc0ac9b",
   "metadata": {},
   "outputs": [],
   "source": [
    "A = np. array([ [1, 3, 7, 2]\n",
    "               ,[5, 8, -9, 0]\n",
    "               ,[6, -7, 11, 12]])\n",
    "\n",
    "print(\"A = \"); print(A)\n",
    "\n",
    "atr = np.transpose(A)\n",
    "\n",
    "print()\n",
    "print(\"Transpose of A = \"); print(atr)\n",
    "\n",
    "B = np.array([ [1, 5]\n",
    "              ,[4, 5]\n",
    "              ,[3, 2]\n",
    "              ,[7, 8]])\n",
    "\n",
    "print()\n",
    "print(\"B = \"); print(B)\n",
    "\n",
    "btr = np.transpose(B)\n",
    "\n",
    "print()\n",
    "print(\"Transpose of B = \"); print(btr)\n"
   ]
  },
  {
   "cell_type": "code",
   "execution_count": null,
   "id": "eca32aa4-117d-4442-937f-ecf6160746b6",
   "metadata": {},
   "outputs": [],
   "source": [
    "# Createing a little dataset\n",
    "hours_studied = np.array([1, 2, 2, 3, 4, 5, 6, 7], dtype = float)\n",
    "practice_tests = np.array([0, 1, 2, 1, 2, 3, 3, 4], dtype = float)\n",
    "exam_score = np.array([50, 55, 58, 63, 68, 75, 79, 85], dtype = float)"
   ]
  },
  {
   "cell_type": "code",
   "execution_count": null,
   "id": "15823ed3-8ecf-4971-b8be-aa8e1a21f4a5",
   "metadata": {},
   "outputs": [],
   "source": [
    "y = exam_score\n",
    "x = np.column_stack([hours_studied, practice_tests])\n",
    "print(x.shape)\n",
    "print(y.shape)"
   ]
  },
  {
   "cell_type": "code",
   "execution_count": null,
   "id": "a466c596-f609-45c2-9560-86c1969d550a",
   "metadata": {},
   "outputs": [],
   "source": [
    "a = x[0] # the 1st student [hours_studied, practice_tests]\n",
    "a"
   ]
  },
  {
   "cell_type": "code",
   "execution_count": null,
   "id": "b9e78222-5751-408c-9e58-2db4f004673c",
   "metadata": {},
   "outputs": [],
   "source": [
    "a_length = np.linalg.norm(a)\n",
    "print('length of a', a_length)"
   ]
  },
  {
   "cell_type": "code",
   "execution_count": null,
   "id": "6da3b150-7bf8-4a6b-93f3-db96a89805cf",
   "metadata": {},
   "outputs": [],
   "source": [
    "b = x[4] # the 5th student [hours_studied, practice_tests]\n",
    "print(b)"
   ]
  },
  {
   "cell_type": "code",
   "execution_count": null,
   "id": "6313f1a2-8148-480f-8f9d-284ebaba3a6b",
   "metadata": {},
   "outputs": [],
   "source": [
    "dot_ab = np.dot(a, b)\n",
    "print(dot_ab)"
   ]
  },
  {
   "cell_type": "code",
   "execution_count": null,
   "id": "313c6458-5fee-4774-aba4-40b81da2902b",
   "metadata": {},
   "outputs": [],
   "source": [
    "cos_sin = dot_ab/(np.linalg.norm(a) * np.linalg.norm(b))\n",
    "print(cos_sin)"
   ]
  },
  {
   "cell_type": "code",
   "execution_count": null,
   "id": "91a50e67-b4b3-4170-a79b-3b2a6c4fd5c8",
   "metadata": {},
   "outputs": [],
   "source": []
  }
 ],
 "metadata": {
  "kernelspec": {
   "display_name": ".venv",
   "language": "python",
   "name": "python3"
  },
  "language_info": {
   "codemirror_mode": {
    "name": "ipython",
    "version": 3
   },
   "file_extension": ".py",
   "mimetype": "text/x-python",
   "name": "python",
   "nbconvert_exporter": "python",
   "pygments_lexer": "ipython3",
   "version": "3.13.5"
  }
 },
 "nbformat": 4,
 "nbformat_minor": 5
}
